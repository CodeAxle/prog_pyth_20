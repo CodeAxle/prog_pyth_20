{
 "cells": [
  {
   "cell_type": "markdown",
   "id": "70fe42bf",
   "metadata": {},
   "source": [
    "# 1."
   ]
  },
  {
   "cell_type": "code",
   "execution_count": 2,
   "id": "6a2597ba",
   "metadata": {},
   "outputs": [
    {
     "name": "stdout",
     "output_type": "stream",
     "text": [
      "[1, 2]\n",
      "[]\n"
     ]
    }
   ],
   "source": [
    "# code:\n",
    "def filter_list(lst):\n",
    "    return [item for item in lst if isinstance(item, int) and item >= 0]\n",
    "\n",
    "# Test the function with the given examples\n",
    "print(filter_list([1, 2, \"a\", \"b\"]))  \n",
    "print(filter_list([\"aasf\", \"1\", \"123\"]))  "
   ]
  },
  {
   "cell_type": "markdown",
   "id": "dc906ad2",
   "metadata": {},
   "source": [
    "# 2."
   ]
  },
  {
   "cell_type": "code",
   "execution_count": 4,
   "id": "222c7af9",
   "metadata": {},
   "outputs": [
    {
     "name": "stdout",
     "output_type": "stream",
     "text": [
      "[0, 1, 2, 3, 4]\n"
     ]
    }
   ],
   "source": [
    "# code:\n",
    "def add_indexes(lst):\n",
    "    return [i + lst[i] for i in range(len(lst))]\n",
    "\n",
    "# Test cases\n",
    "print(add_indexes([0, 0, 0, 0, 0]))  "
   ]
  },
  {
   "cell_type": "markdown",
   "id": "a29e39a8",
   "metadata": {},
   "source": [
    "# 3."
   ]
  },
  {
   "cell_type": "code",
   "execution_count": 5,
   "id": "7dc937d4",
   "metadata": {},
   "outputs": [
    {
     "name": "stdout",
     "output_type": "stream",
     "text": [
      "12.57\n",
      "0.0\n"
     ]
    }
   ],
   "source": [
    "# code:\n",
    "import math\n",
    "\n",
    "def cone_volume(h, r):\n",
    "    # Calculate volume using the formula V = (1/3) * pi * r^2 * h\n",
    "    volume = (1/3) * math.pi * r**2 * h\n",
    "    # Round the volume to the nearest hundredth\n",
    "    return round(volume, 2)\n",
    "\n",
    "# Test cases\n",
    "print(cone_volume(3, 2)) \n",
    "print(cone_volume(18, 0)) "
   ]
  },
  {
   "cell_type": "markdown",
   "id": "a8af1fca",
   "metadata": {},
   "source": [
    "# 4."
   ]
  },
  {
   "cell_type": "code",
   "execution_count": 6,
   "id": "89500e65",
   "metadata": {},
   "outputs": [
    {
     "name": "stdout",
     "output_type": "stream",
     "text": [
      "1\n",
      "21\n",
      "23220\n"
     ]
    }
   ],
   "source": [
    "# code:\n",
    "def triangle(n):\n",
    "    return n * (n + 1) // 2\n",
    "\n",
    "# Example usage\n",
    "print(triangle(1))  # Output: 1\n",
    "print(triangle(6))  # Output: 21\n",
    "print(triangle(215))  # Output: 23220"
   ]
  },
  {
   "cell_type": "markdown",
   "id": "9a964d26",
   "metadata": {},
   "source": [
    "# 5."
   ]
  },
  {
   "cell_type": "code",
   "execution_count": 7,
   "id": "2ba7ab4c",
   "metadata": {},
   "outputs": [
    {
     "name": "stdout",
     "output_type": "stream",
     "text": [
      "5\n"
     ]
    }
   ],
   "source": [
    "# code:\n",
    "def missing_num(nums):\n",
    "    # Calculate the sum of all numbers from 1 to 10\n",
    "    total_sum = sum(range(1, 11))\n",
    "    # Calculate the sum of the given list of numbers\n",
    "    given_sum = sum(nums)\n",
    "    # Return the missing number\n",
    "    return total_sum - given_sum\n",
    "\n",
    "# Test cases\n",
    "print(missing_num([1, 2, 3, 4, 6, 7, 8, 9, 10]))  # Output: 5"
   ]
  },
  {
   "cell_type": "code",
   "execution_count": null,
   "id": "a45488d3",
   "metadata": {},
   "outputs": [],
   "source": []
  }
 ],
 "metadata": {
  "kernelspec": {
   "display_name": "Python 3 (ipykernel)",
   "language": "python",
   "name": "python3"
  },
  "language_info": {
   "codemirror_mode": {
    "name": "ipython",
    "version": 3
   },
   "file_extension": ".py",
   "mimetype": "text/x-python",
   "name": "python",
   "nbconvert_exporter": "python",
   "pygments_lexer": "ipython3",
   "version": "3.11.5"
  }
 },
 "nbformat": 4,
 "nbformat_minor": 5
}
